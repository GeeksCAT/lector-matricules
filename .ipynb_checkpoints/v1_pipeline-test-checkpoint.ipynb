{
 "cells": [
  {
   "cell_type": "markdown",
   "id": "upper-alignment",
   "metadata": {},
   "source": [
    "# Lector de matricules\n",
    "#### v1\n",
    "L'objectiu d'aquest notebook es fer un proof of concept de la pipeline.\n",
    "\n",
    "Aquesta pipeline s'encarregara de fer:\n",
    "* Llegir imatges\n",
    "* Aplicar CLAHE per normalitzar valors\n",
    "* Aplicar thresholding (binary, otsu) per convertir-la en B/N\n",
    "* Seleccionar regio de la matricula\n",
    "* Fer un crop de la ROI i aplicar homografia per alinear la geometria\n",
    "* Passat OCR\n",
    "* Desar valors"
   ]
  },
  {
   "cell_type": "code",
   "execution_count": 1,
   "id": "warming-forth",
   "metadata": {},
   "outputs": [],
   "source": [
    "import cv2"
   ]
  }
 ],
 "metadata": {
  "kernelspec": {
   "display_name": "Python 3",
   "language": "python",
   "name": "python3"
  },
  "language_info": {
   "codemirror_mode": {
    "name": "ipython",
    "version": 3
   },
   "file_extension": ".py",
   "mimetype": "text/x-python",
   "name": "python",
   "nbconvert_exporter": "python",
   "pygments_lexer": "ipython3",
   "version": "3.8.8"
  }
 },
 "nbformat": 4,
 "nbformat_minor": 5
}
