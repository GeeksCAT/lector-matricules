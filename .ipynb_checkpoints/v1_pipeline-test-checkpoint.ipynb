{
 "cells": [
  {
   "cell_type": "markdown",
   "id": "hungry-seventh",
   "metadata": {},
   "source": [
    "# Lector de matricules\n",
    "#### v1\n",
    "L'objectiu d'aquest notebook es fer un proof of concept de la pipeline.\n",
    "\n",
    "Aquesta pipeline s'encarregara de fer:\n",
    "* Obtenir les imatges\n",
    "* Llegir imatges\n",
    "* Aplicar CLAHE per normalitzar valors\n",
    "* Aplicar thresholding (binary, otsu) per convertir-la en B/N\n",
    "* Seleccionar regio de la matricula\n",
    "* Fer un crop de la ROI i aplicar homografia per alinear la geometria\n",
    "* Passat OCR\n",
    "* Desar valors"
   ]
  },
  {
   "cell_type": "markdown",
   "id": "classified-freeze",
   "metadata": {},
   "source": [
    "# 0. Imports"
   ]
  },
  {
   "cell_type": "code",
   "execution_count": 1,
   "id": "demanding-carpet",
   "metadata": {},
   "outputs": [],
   "source": [
    "import cv2"
   ]
  },
  {
   "cell_type": "markdown",
   "id": "unavailable-governor",
   "metadata": {},
   "source": [
    "# 1. Obtencio d'imatges\n",
    "Es procedira a descarregar imatges des de repositoris publics amb llicencia permissiva."
   ]
  },
  {
   "cell_type": "code",
   "execution_count": null,
   "id": "sunset-diploma",
   "metadata": {},
   "outputs": [],
   "source": []
  }
 ],
 "metadata": {
  "kernelspec": {
   "display_name": "Python 3",
   "language": "python",
   "name": "python3"
  },
  "language_info": {
   "codemirror_mode": {
    "name": "ipython",
    "version": 3
   },
   "file_extension": ".py",
   "mimetype": "text/x-python",
   "name": "python",
   "nbconvert_exporter": "python",
   "pygments_lexer": "ipython3",
   "version": "3.8.8"
  }
 },
 "nbformat": 4,
 "nbformat_minor": 5
}
